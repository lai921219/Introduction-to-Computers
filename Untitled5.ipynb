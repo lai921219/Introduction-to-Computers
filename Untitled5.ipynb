{
  "nbformat": 4,
  "nbformat_minor": 0,
  "metadata": {
    "colab": {
      "provenance": [],
      "authorship_tag": "ABX9TyNZtFeYCR9Xz6fUaH3jYbE3",
      "include_colab_link": true
    },
    "kernelspec": {
      "name": "python3",
      "display_name": "Python 3"
    },
    "language_info": {
      "name": "python"
    }
  },
  "cells": [
    {
      "cell_type": "markdown",
      "metadata": {
        "id": "view-in-github",
        "colab_type": "text"
      },
      "source": [
        "<a href=\"https://colab.research.google.com/github/lai921219/Introduction-to-Computers/blob/main/Untitled5.ipynb\" target=\"_parent\"><img src=\"https://colab.research.google.com/assets/colab-badge.svg\" alt=\"Open In Colab\"/></a>"
      ]
    },
    {
      "cell_type": "code",
      "execution_count": 3,
      "metadata": {
        "colab": {
          "base_uri": "https://localhost:8080/"
        },
        "id": "SmugFJT9kYN0",
        "outputId": "fd525731-0d75-4d01-847a-b05a9a19db8a"
      },
      "outputs": [
        {
          "output_type": "stream",
          "name": "stdout",
          "text": [
            "請輸入您的體溫：33\n",
            "體溫異常，請重新量測!\n"
          ]
        }
      ],
      "source": [
        "體溫 = float(input(\"請輸入您的體溫：\"))\n",
        "\n",
        "if 體溫 >= 37.5:\n",
        "    print(\"體溫過高!\")\n",
        "elif 37 <= 體溫 <= 37.4:\n",
        "    print(\"體溫略高!\")\n",
        "elif 34 <= 體溫 <= 36.9:\n",
        "    print(\"體溫正常!\")\n",
        "else:\n",
        "    print(\"體溫異常，請重新量測!\")"
      ]
    },
    {
      "cell_type": "code",
      "source": [
        "成績 = float(input(\"請輸入您的成績：\"))\n",
        "\n",
        "if 成績 >= 90:\n",
        "    print(\"您的成績為：A\")\n",
        "elif 80 <= 成績 <= 89:\n",
        "    print(\"您的成績為：B\")\n",
        "elif 70 <= 成績 <= 79:\n",
        "    print(\"您的成績為：C\")\n",
        "elif 60 <= 成績 <= 69:\n",
        "    print(\"您的成績為：D\")\n",
        "else:\n",
        "    print(\"您的成績為：E\")"
      ],
      "metadata": {
        "colab": {
          "base_uri": "https://localhost:8080/"
        },
        "id": "7vacKbzmnCCT",
        "outputId": "e94e16e5-116e-4d3e-d076-5ebbdadc276e"
      },
      "execution_count": 6,
      "outputs": [
        {
          "output_type": "stream",
          "name": "stdout",
          "text": [
            "請輸入您的成績：90\n",
            "您的成績為：A\n"
          ]
        }
      ]
    },
    {
      "cell_type": "code",
      "source": [
        "月份 = int(input(\"請輸入月份：\"))\n",
        "\n",
        "if 3 <= 月份 <= 5:\n",
        "    print(f\"{月份}月是春天!\")\n",
        "elif 6 <= 月份 <= 8:\n",
        "    print(f\"{月份}月是夏天!\")\n",
        "elif 9 <= 月份 <= 11:\n",
        "    print(f\"{月份}月是秋天!\")\n",
        "elif 月份 == 12 or 1 <= 月份 <= 2:\n",
        "    print(f\"{月份}月是冬天!\")\n",
        "else:\n",
        "    print(\"月份不在範圍內!\")"
      ],
      "metadata": {
        "colab": {
          "base_uri": "https://localhost:8080/"
        },
        "id": "GORjPwZAn0wZ",
        "outputId": "44e55dc4-4447-4347-ed5b-03ef48ee9308"
      },
      "execution_count": 10,
      "outputs": [
        {
          "output_type": "stream",
          "name": "stdout",
          "text": [
            "請輸入月份：9\n",
            "9月是秋天!\n"
          ]
        }
      ]
    }
  ]
}